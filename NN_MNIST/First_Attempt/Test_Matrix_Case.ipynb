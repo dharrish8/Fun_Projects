{
 "cells": [
  {
   "cell_type": "code",
   "execution_count": 1,
   "metadata": {},
   "outputs": [],
   "source": [
    "'''Loads mnist data and transform into suitable format for NN training'''\n",
    "\n",
    "import pickle\n",
    "import gzip\n",
    "import numpy as np\n",
    "import random\n",
    "\n",
    "def load_data():\n",
    "    f = gzip.open('./mnist.pkl.gz')\n",
    "    training_data, validation_data, test_data = pickle.load(f, encoding=\"latin1\")\n",
    "    f.close()\n",
    "    return (training_data, validation_data, test_data)\n",
    "\n",
    "def load_data_wrapper():\n",
    "    tr_d, va_d, te_d = load_data()\n",
    "    training_inputs = [np.reshape(x, (784, 1)) for x in tr_d[0]]\n",
    "    training_results = [vectorized_result(y) for y in tr_d[1]]\n",
    "    training_data = list(zip(training_inputs, training_results))\n",
    "    validation_inputs = [np.reshape(x, (784, 1)) for x in va_d[0]]\n",
    "    validation_data = list(zip(validation_inputs, va_d[1]))\n",
    "    test_inputs = [np.reshape(x, (784, 1)) for x in te_d[0]]\n",
    "    test_data = list(zip(test_inputs, te_d[1]))\n",
    "    return (training_data, validation_data, test_data)\n",
    "\n",
    "def vectorized_result(j):\n",
    "    e = np.zeros((10, 1))\n",
    "    e[j] = 1.0\n",
    "    return e"
   ]
  },
  {
   "cell_type": "code",
   "execution_count": 2,
   "metadata": {},
   "outputs": [],
   "source": [
    "training_data, validation_data, test_data = load_data_wrapper()"
   ]
  },
  {
   "cell_type": "code",
   "execution_count": 48,
   "metadata": {},
   "outputs": [],
   "source": [
    "def sigmoid(z):\n",
    "    return 1.0/(1.0 + np.exp(-z))\n",
    "\n",
    "def sigmoid_prime(z):\n",
    "    return sigmoid(z)*(1 - sigmoid(z))\n",
    "\n",
    "def update_mini_batch(mini_batch, eta):\n",
    "\n",
    "    nabla_b = [np.zeros(b.shape) for b in biases]\n",
    "    nabla_w = [np.zeros(w.shape) for w in weights]\n",
    "    \n",
    "    X = np.array([mini_batch[k][0] for k in range(len(mini_batch))])\n",
    "    Y = np.array([mini_batch[k][1] for k in range(len(mini_batch))])\n",
    "    \n",
    "    #for x, y in mini_batch:\n",
    "    nabla_b, nabla_w = backprop(X, Y)\n",
    "\n",
    "    #nabla_b = [b + nb for b, nb in zip(nabla_b, delta_nabla_b)]\n",
    "    #nabla_w = [w + nw for w, nw in zip(nabla_w, delta_nabla_w)]\n",
    "\n",
    "    biases = [b-(eta/len(mini_batch))*nb for b, nb in zip(biases, nabla_b)]\n",
    "    weights = [w-(eta/len(mini_batch))*nw for w, nw in zip(weights, nabla_w)]\n",
    "\n",
    "\n",
    "def backprop(x, y):\n",
    "\n",
    "    nabla_b = [np.zeros(b.shape) for b in biases]\n",
    "    nabla_w = [np.zeros(w.shape) for w in weights]\n",
    "\n",
    "    activation = x\n",
    "    activations = [x]\n",
    "    zs = []\n",
    "\n",
    "    for w, b in zip(weights, biases):\n",
    "        z = np.dot(w, activation) + b\n",
    "        zs.append(z)\n",
    "        activation = sigmoid(z)\n",
    "        activations.append(activation)\n",
    "\n",
    "    delta = cost_derivative(activations[-1], y) * sigmoid_prime(zs[-1])\n",
    "    nabla_b[-1] = np.sum(delta, axis = 1, keepdims = True)\n",
    "    nabla_w[-1] = np.dot(delta, activations[-2].transpose())\n",
    "\n",
    "    for l in range(2, num_layers):\n",
    "\n",
    "        z = zs[-l]\n",
    "        sp = sigmoid_prime(z)\n",
    "        delta = np.dot(weights[-l+1].transpose(), delta) * sp\n",
    "        nabla_b[-l] = np.sum(delta, axis = 1, keepdims = True)\n",
    "        nabla_w[-l] = np.dot(delta, activations[-l-1].transpose())\n",
    "\n",
    "    return (nabla_b, nabla_w)\n",
    "\n",
    "\n",
    "def cost_derivative(output_activations, y):\n",
    "    return (output_activations - y)    \n",
    "  "
   ]
  },
  {
   "cell_type": "code",
   "execution_count": 3,
   "metadata": {},
   "outputs": [],
   "source": [
    "sizes = [784, 30, 10]\n",
    "num_layers = len(sizes)\n",
    "sizes = sizes\n",
    "biases = [np.random.randn(y, 1) for y in sizes[1:]]\n",
    "weights = [np.random.randn(y, x) for x, y in zip(sizes[:-1], sizes[1:])]\n",
    "\n",
    "n = len(training_data)\n",
    "eta = 3.0\n",
    "\n",
    "random.shuffle(training_data) \n",
    "          \n",
    "mini_batches = [training_data[k:k + 10] for k in range(0, n, 10)] \n",
    "        \n",
    "mini_batch = mini_batches[0]\n"
   ]
  },
  {
   "cell_type": "code",
   "execution_count": 20,
   "metadata": {},
   "outputs": [
    {
     "data": {
      "text/plain": [
       "(784, 10)"
      ]
     },
     "execution_count": 20,
     "metadata": {},
     "output_type": "execute_result"
    }
   ],
   "source": [
    "X = mini_batch[0][0]\n",
    "for k in range(1, len(mini_batch)):\n",
    "    X = np.append(X, mini_batch[k][0], axis = 1)\n",
    "\n",
    "Y = mini_batch[0][1]\n",
    "for k in range(1, len(mini_batch)):\n",
    "    Y = np.append(Y, mini_batch[k][1], axis = 1)\n",
    "\n",
    "X.shape\n",
    "#nabla_b, nabla_w = backprop(X, Y)"
   ]
  },
  {
   "cell_type": "code",
   "execution_count": null,
   "metadata": {},
   "outputs": [],
   "source": []
  }
 ],
 "metadata": {
  "kernelspec": {
   "display_name": "Python 3",
   "language": "python",
   "name": "python3"
  },
  "language_info": {
   "codemirror_mode": {
    "name": "ipython",
    "version": 3
   },
   "file_extension": ".py",
   "mimetype": "text/x-python",
   "name": "python",
   "nbconvert_exporter": "python",
   "pygments_lexer": "ipython3",
   "version": "3.8.3"
  }
 },
 "nbformat": 4,
 "nbformat_minor": 4
}
